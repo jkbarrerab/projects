{
 "cells": [
  {
   "cell_type": "code",
   "execution_count": 2,
   "id": "58236e34-64cf-4f73-9cf5-198abf7e2676",
   "metadata": {},
   "outputs": [],
   "source": [
    "import matplotlib.pyplot as plt\n",
    "import numpy as np\n",
    "import pandas as pd"
   ]
  },
  {
   "cell_type": "code",
   "execution_count": 3,
   "id": "b9704df5-0e6b-42db-90a0-6c116fe08773",
   "metadata": {},
   "outputs": [],
   "source": [
    "# Data from \n",
    "# https://archive.ics.uci.edu/dataset/222/bank+marketing\n",
    "df = pd.read_csv('bank+marketing/bank/bank.csv', delimiter=';')\n"
   ]
  },
  {
   "cell_type": "code",
   "execution_count": 4,
   "id": "fce316f5-8f01-4b6a-9764-85f6578e98f7",
   "metadata": {},
   "outputs": [
    {
     "data": {
      "text/plain": [
       "age  job          marital  education  default  balance  housing  loan  contact   day  month  duration  campaign  pdays  previous  poutcome  y  \n",
       "19   student      single   primary    no        103     no       no    cellular  10   jul    104       2         -1     0         unknown   yes    1\n",
       "45   services     single   secondary  no        1757    yes      no    cellular  20   apr    1010      3          326   1         other     no     1\n",
       "     technician   married  secondary  no        88      no       no    cellular  29   aug    150       2         -1     0         unknown   no     1\n",
       "                                                49      no       no    cellular  29   jul    65        2         -1     0         unknown   no     1\n",
       "                                               -149     yes      no    cellular  14   jul    287       2         -1     0         unknown   no     1\n",
       "                                                                                                                                                  ..\n",
       "35   blue-collar  married  secondary  no        305     yes      no    cellular  18   may    7         7          367   25        failure   no     1\n",
       "                                                407     yes      no    cellular  20   apr    12        6         -1     0         unknown   no     1\n",
       "                                                444     yes      no    cellular  15   apr    244       3         -1     0         unknown   no     1\n",
       "                                                603     yes      no    cellular  17   apr    474       2         -1     0         unknown   no     1\n",
       "87   retired      married  primary    no        230     no       no    cellular  30   oct    144       1         -1     0         unknown   yes    1\n",
       "Length: 4521, dtype: int64"
      ]
     },
     "execution_count": 4,
     "metadata": {},
     "output_type": "execute_result"
    }
   ],
   "source": [
    "df.value_counts()"
   ]
  },
  {
   "cell_type": "code",
   "execution_count": 5,
   "id": "69f32aef-0f29-4700-8f2a-93329a8b53a5",
   "metadata": {},
   "outputs": [
    {
     "name": "stdout",
     "output_type": "stream",
     "text": [
      "yes fraction:  0.11523999115239991\n",
      "no fraction:   0.8847600088476001\n"
     ]
    }
   ],
   "source": [
    "# What is the proportion of clases for the target variable?\n",
    "\n",
    "total_target  = len(df['y'])\n",
    "frac_yes = len(df[df['y'] == 'yes'])\n",
    "frac_no  = len(df[df['y'] == 'no'])\n",
    "\n",
    "print('yes fraction: ',frac_yes/total_target)\n",
    "print('no fraction:  ',frac_no/total_target)\n"
   ]
  },
  {
   "cell_type": "code",
   "execution_count": 6,
   "id": "3fff6a40-18f2-4769-b449-47dd1cbd5d33",
   "metadata": {},
   "outputs": [
    {
     "name": "stdout",
     "output_type": "stream",
     "text": [
      "<class 'pandas.core.frame.DataFrame'>\n",
      "RangeIndex: 4521 entries, 0 to 4520\n",
      "Data columns (total 17 columns):\n",
      " #   Column     Non-Null Count  Dtype \n",
      "---  ------     --------------  ----- \n",
      " 0   age        4521 non-null   int64 \n",
      " 1   job        4521 non-null   object\n",
      " 2   marital    4521 non-null   object\n",
      " 3   education  4521 non-null   object\n",
      " 4   default    4521 non-null   object\n",
      " 5   balance    4521 non-null   int64 \n",
      " 6   housing    4521 non-null   object\n",
      " 7   loan       4521 non-null   object\n",
      " 8   contact    4521 non-null   object\n",
      " 9   day        4521 non-null   int64 \n",
      " 10  month      4521 non-null   object\n",
      " 11  duration   4521 non-null   int64 \n",
      " 12  campaign   4521 non-null   int64 \n",
      " 13  pdays      4521 non-null   int64 \n",
      " 14  previous   4521 non-null   int64 \n",
      " 15  poutcome   4521 non-null   object\n",
      " 16  y          4521 non-null   object\n",
      "dtypes: int64(7), object(10)\n",
      "memory usage: 600.6+ KB\n",
      " \n",
      "There are 7 numerical clases: age, balance, day, duration, campaing, pdays, previous\n"
     ]
    }
   ],
   "source": [
    "# How many numerical variables are?\n",
    "\n",
    "df.info()\n",
    "\n",
    "print(' ')\n",
    "print('There are 7 numerical clases: age, balance, day, duration, campaing, pdays, previous')"
   ]
  },
  {
   "cell_type": "code",
   "execution_count": 7,
   "id": "da1430ab-9cb4-4d47-9b01-5712133e6087",
   "metadata": {},
   "outputs": [
    {
     "name": "stdout",
     "output_type": "stream",
     "text": [
      "median of the numerical variables: age          39.0\n",
      "balance     444.0\n",
      "day          16.0\n",
      "duration    185.0\n",
      "campaign      2.0\n",
      "pdays        -1.0\n",
      "previous      0.0\n",
      "dtype: float64\n",
      "std of the numerical variables: age           10.576211\n",
      "balance     3009.638142\n",
      "day            8.247667\n",
      "duration     259.856633\n",
      "campaign       3.109807\n",
      "pdays        100.121124\n",
      "previous       1.693562\n",
      "dtype: float64\n"
     ]
    }
   ],
   "source": [
    "# what is the median and the standard deviation of the numerical variables?\n",
    "median = df[['age', 'balance', 'day', 'duration', 'campaign', 'pdays', 'previous']].median()\n",
    "std    = df[['age', 'balance', 'day', 'duration', 'campaign', 'pdays', 'previous']].std()\n",
    "\n",
    "print('median of the numerical variables:', median)\n",
    "print('std of the numerical variables:', std)\n"
   ]
  },
  {
   "cell_type": "code",
   "execution_count": 8,
   "id": "ea59d226-f1c5-4516-813a-b8c587762c0e",
   "metadata": {},
   "outputs": [
    {
     "name": "stdout",
     "output_type": "stream",
     "text": [
      "min of the numerical variables: age           19\n",
      "balance    -3313\n",
      "day            1\n",
      "duration       4\n",
      "campaign       1\n",
      "pdays         -1\n",
      "previous       0\n",
      "dtype: int64\n",
      "max of the numerical variables: age            87\n",
      "balance     71188\n",
      "day            31\n",
      "duration     3025\n",
      "campaign       50\n",
      "pdays         871\n",
      "previous       25\n",
      "dtype: int64\n"
     ]
    }
   ],
   "source": [
    "# min and max of numerical variables\n",
    "min_values = df[['age', 'balance', 'day', 'duration', 'campaign', 'pdays', 'previous']].min()\n",
    "max_values    = df[['age', 'balance', 'day', 'duration', 'campaign', 'pdays', 'previous']].max()\n",
    "\n",
    "print('min of the numerical variables:', min_values)\n",
    "print('max of the numerical variables:', max_values)\n"
   ]
  },
  {
   "cell_type": "code",
   "execution_count": 9,
   "id": "224ee01d-e784-4745-b6e2-fcbfbfd80b82",
   "metadata": {},
   "outputs": [
    {
     "name": "stdout",
     "output_type": "stream",
     "text": [
      "<class 'pandas.core.frame.DataFrame'>\n",
      "RangeIndex: 4521 entries, 0 to 4520\n",
      "Data columns (total 17 columns):\n",
      " #   Column     Non-Null Count  Dtype \n",
      "---  ------     --------------  ----- \n",
      " 0   age        4521 non-null   int64 \n",
      " 1   job        4521 non-null   object\n",
      " 2   marital    4521 non-null   object\n",
      " 3   education  4521 non-null   object\n",
      " 4   default    4521 non-null   object\n",
      " 5   balance    4521 non-null   int64 \n",
      " 6   housing    4521 non-null   object\n",
      " 7   loan       4521 non-null   object\n",
      " 8   contact    4521 non-null   object\n",
      " 9   day        4521 non-null   int64 \n",
      " 10  month      4521 non-null   object\n",
      " 11  duration   4521 non-null   int64 \n",
      " 12  campaign   4521 non-null   int64 \n",
      " 13  pdays      4521 non-null   int64 \n",
      " 14  previous   4521 non-null   int64 \n",
      " 15  poutcome   4521 non-null   object\n",
      " 16  y          4521 non-null   object\n",
      "dtypes: int64(7), object(10)\n",
      "memory usage: 600.6+ KB\n",
      " \n",
      "There are 10 numerical clases: job, marital, education, default, housing, loan, contact, month, poutcom,y\n"
     ]
    }
   ],
   "source": [
    "# how many categorical variables are?\n",
    "\n",
    "df.info()\n",
    "\n",
    "print(' ')\n",
    "print('There are 10 numerical clases: job, marital, education, default, housing, loan, contact, month, poutcom,y')     "
   ]
  },
  {
   "cell_type": "code",
   "execution_count": 14,
   "id": "cb9676de-982a-4487-acf3-47953a3077c2",
   "metadata": {},
   "outputs": [
    {
     "data": {
      "text/plain": [
       "job          12\n",
       "marital       3\n",
       "education     4\n",
       "default       2\n",
       "housing       2\n",
       "loan          2\n",
       "contact       3\n",
       "month        12\n",
       "poutcome      4\n",
       "y             2\n",
       "dtype: int64"
      ]
     },
     "execution_count": 14,
     "metadata": {},
     "output_type": "execute_result"
    }
   ],
   "source": [
    "# how many unique values has each categorical variable?\n",
    "\n",
    "df[['job', 'marital', 'education', 'default', 'housing', 'loan', 'contact', 'month', 'poutcome','y']].nunique()\n"
   ]
  },
  {
   "cell_type": "code",
   "execution_count": 15,
   "id": "9af3ea34",
   "metadata": {},
   "outputs": [
    {
     "data": {
      "text/html": [
       "<div>\n",
       "<style scoped>\n",
       "    .dataframe tbody tr th:only-of-type {\n",
       "        vertical-align: middle;\n",
       "    }\n",
       "\n",
       "    .dataframe tbody tr th {\n",
       "        vertical-align: top;\n",
       "    }\n",
       "\n",
       "    .dataframe thead th {\n",
       "        text-align: right;\n",
       "    }\n",
       "</style>\n",
       "<table border=\"1\" class=\"dataframe\">\n",
       "  <thead>\n",
       "    <tr style=\"text-align: right;\">\n",
       "      <th></th>\n",
       "      <th>age</th>\n",
       "      <th>balance</th>\n",
       "      <th>day</th>\n",
       "      <th>duration</th>\n",
       "      <th>campaign</th>\n",
       "      <th>pdays</th>\n",
       "      <th>previous</th>\n",
       "    </tr>\n",
       "  </thead>\n",
       "  <tbody>\n",
       "    <tr>\n",
       "      <th>age</th>\n",
       "      <td>1.000000</td>\n",
       "      <td>0.083820</td>\n",
       "      <td>-0.017853</td>\n",
       "      <td>-0.002367</td>\n",
       "      <td>-0.005148</td>\n",
       "      <td>-0.008894</td>\n",
       "      <td>-0.003511</td>\n",
       "    </tr>\n",
       "    <tr>\n",
       "      <th>balance</th>\n",
       "      <td>0.083820</td>\n",
       "      <td>1.000000</td>\n",
       "      <td>-0.008677</td>\n",
       "      <td>-0.015950</td>\n",
       "      <td>-0.009976</td>\n",
       "      <td>0.009437</td>\n",
       "      <td>0.026196</td>\n",
       "    </tr>\n",
       "    <tr>\n",
       "      <th>day</th>\n",
       "      <td>-0.017853</td>\n",
       "      <td>-0.008677</td>\n",
       "      <td>1.000000</td>\n",
       "      <td>-0.024629</td>\n",
       "      <td>0.160706</td>\n",
       "      <td>-0.094352</td>\n",
       "      <td>-0.059114</td>\n",
       "    </tr>\n",
       "    <tr>\n",
       "      <th>duration</th>\n",
       "      <td>-0.002367</td>\n",
       "      <td>-0.015950</td>\n",
       "      <td>-0.024629</td>\n",
       "      <td>1.000000</td>\n",
       "      <td>-0.068382</td>\n",
       "      <td>0.010380</td>\n",
       "      <td>0.018080</td>\n",
       "    </tr>\n",
       "    <tr>\n",
       "      <th>campaign</th>\n",
       "      <td>-0.005148</td>\n",
       "      <td>-0.009976</td>\n",
       "      <td>0.160706</td>\n",
       "      <td>-0.068382</td>\n",
       "      <td>1.000000</td>\n",
       "      <td>-0.093137</td>\n",
       "      <td>-0.067833</td>\n",
       "    </tr>\n",
       "    <tr>\n",
       "      <th>pdays</th>\n",
       "      <td>-0.008894</td>\n",
       "      <td>0.009437</td>\n",
       "      <td>-0.094352</td>\n",
       "      <td>0.010380</td>\n",
       "      <td>-0.093137</td>\n",
       "      <td>1.000000</td>\n",
       "      <td>0.577562</td>\n",
       "    </tr>\n",
       "    <tr>\n",
       "      <th>previous</th>\n",
       "      <td>-0.003511</td>\n",
       "      <td>0.026196</td>\n",
       "      <td>-0.059114</td>\n",
       "      <td>0.018080</td>\n",
       "      <td>-0.067833</td>\n",
       "      <td>0.577562</td>\n",
       "      <td>1.000000</td>\n",
       "    </tr>\n",
       "  </tbody>\n",
       "</table>\n",
       "</div>"
      ],
      "text/plain": [
       "               age   balance       day  duration  campaign     pdays  previous\n",
       "age       1.000000  0.083820 -0.017853 -0.002367 -0.005148 -0.008894 -0.003511\n",
       "balance   0.083820  1.000000 -0.008677 -0.015950 -0.009976  0.009437  0.026196\n",
       "day      -0.017853 -0.008677  1.000000 -0.024629  0.160706 -0.094352 -0.059114\n",
       "duration -0.002367 -0.015950 -0.024629  1.000000 -0.068382  0.010380  0.018080\n",
       "campaign -0.005148 -0.009976  0.160706 -0.068382  1.000000 -0.093137 -0.067833\n",
       "pdays    -0.008894  0.009437 -0.094352  0.010380 -0.093137  1.000000  0.577562\n",
       "previous -0.003511  0.026196 -0.059114  0.018080 -0.067833  0.577562  1.000000"
      ]
     },
     "execution_count": 15,
     "metadata": {},
     "output_type": "execute_result"
    }
   ],
   "source": [
    "# Taking into account all the variables which ones have the largest correlation?\n",
    "\n",
    "df[['age', 'balance', 'day', 'duration', 'campaign', 'pdays', 'previous']].corr()"
   ]
  },
  {
   "cell_type": "code",
   "execution_count": 17,
   "id": "3e25e863",
   "metadata": {},
   "outputs": [],
   "source": [
    "df['y_cat'] = df['y']\n",
    "df['y_cat'].replace(['yes', 'no'], [1,0], inplace=True)\n"
   ]
  },
  {
   "cell_type": "code",
   "execution_count": 21,
   "id": "91924666",
   "metadata": {},
   "outputs": [
    {
     "data": {
      "text/html": [
       "<div>\n",
       "<style scoped>\n",
       "    .dataframe tbody tr th:only-of-type {\n",
       "        vertical-align: middle;\n",
       "    }\n",
       "\n",
       "    .dataframe tbody tr th {\n",
       "        vertical-align: top;\n",
       "    }\n",
       "\n",
       "    .dataframe thead th {\n",
       "        text-align: right;\n",
       "    }\n",
       "</style>\n",
       "<table border=\"1\" class=\"dataframe\">\n",
       "  <thead>\n",
       "    <tr style=\"text-align: right;\">\n",
       "      <th></th>\n",
       "      <th>age</th>\n",
       "      <th>balance</th>\n",
       "      <th>day</th>\n",
       "      <th>duration</th>\n",
       "      <th>campaign</th>\n",
       "      <th>pdays</th>\n",
       "      <th>previous</th>\n",
       "      <th>y_cat</th>\n",
       "    </tr>\n",
       "  </thead>\n",
       "  <tbody>\n",
       "    <tr>\n",
       "      <th>age</th>\n",
       "      <td>1.000000</td>\n",
       "      <td>0.083820</td>\n",
       "      <td>-0.017853</td>\n",
       "      <td>-0.002367</td>\n",
       "      <td>-0.005148</td>\n",
       "      <td>-0.008894</td>\n",
       "      <td>-0.003511</td>\n",
       "      <td>0.045092</td>\n",
       "    </tr>\n",
       "    <tr>\n",
       "      <th>balance</th>\n",
       "      <td>0.083820</td>\n",
       "      <td>1.000000</td>\n",
       "      <td>-0.008677</td>\n",
       "      <td>-0.015950</td>\n",
       "      <td>-0.009976</td>\n",
       "      <td>0.009437</td>\n",
       "      <td>0.026196</td>\n",
       "      <td>0.017905</td>\n",
       "    </tr>\n",
       "    <tr>\n",
       "      <th>day</th>\n",
       "      <td>-0.017853</td>\n",
       "      <td>-0.008677</td>\n",
       "      <td>1.000000</td>\n",
       "      <td>-0.024629</td>\n",
       "      <td>0.160706</td>\n",
       "      <td>-0.094352</td>\n",
       "      <td>-0.059114</td>\n",
       "      <td>-0.011244</td>\n",
       "    </tr>\n",
       "    <tr>\n",
       "      <th>duration</th>\n",
       "      <td>-0.002367</td>\n",
       "      <td>-0.015950</td>\n",
       "      <td>-0.024629</td>\n",
       "      <td>1.000000</td>\n",
       "      <td>-0.068382</td>\n",
       "      <td>0.010380</td>\n",
       "      <td>0.018080</td>\n",
       "      <td>0.401118</td>\n",
       "    </tr>\n",
       "    <tr>\n",
       "      <th>campaign</th>\n",
       "      <td>-0.005148</td>\n",
       "      <td>-0.009976</td>\n",
       "      <td>0.160706</td>\n",
       "      <td>-0.068382</td>\n",
       "      <td>1.000000</td>\n",
       "      <td>-0.093137</td>\n",
       "      <td>-0.067833</td>\n",
       "      <td>-0.061147</td>\n",
       "    </tr>\n",
       "    <tr>\n",
       "      <th>pdays</th>\n",
       "      <td>-0.008894</td>\n",
       "      <td>0.009437</td>\n",
       "      <td>-0.094352</td>\n",
       "      <td>0.010380</td>\n",
       "      <td>-0.093137</td>\n",
       "      <td>1.000000</td>\n",
       "      <td>0.577562</td>\n",
       "      <td>0.104087</td>\n",
       "    </tr>\n",
       "    <tr>\n",
       "      <th>previous</th>\n",
       "      <td>-0.003511</td>\n",
       "      <td>0.026196</td>\n",
       "      <td>-0.059114</td>\n",
       "      <td>0.018080</td>\n",
       "      <td>-0.067833</td>\n",
       "      <td>0.577562</td>\n",
       "      <td>1.000000</td>\n",
       "      <td>0.116714</td>\n",
       "    </tr>\n",
       "    <tr>\n",
       "      <th>y_cat</th>\n",
       "      <td>0.045092</td>\n",
       "      <td>0.017905</td>\n",
       "      <td>-0.011244</td>\n",
       "      <td>0.401118</td>\n",
       "      <td>-0.061147</td>\n",
       "      <td>0.104087</td>\n",
       "      <td>0.116714</td>\n",
       "      <td>1.000000</td>\n",
       "    </tr>\n",
       "  </tbody>\n",
       "</table>\n",
       "</div>"
      ],
      "text/plain": [
       "               age   balance       day  duration  campaign     pdays  \\\n",
       "age       1.000000  0.083820 -0.017853 -0.002367 -0.005148 -0.008894   \n",
       "balance   0.083820  1.000000 -0.008677 -0.015950 -0.009976  0.009437   \n",
       "day      -0.017853 -0.008677  1.000000 -0.024629  0.160706 -0.094352   \n",
       "duration -0.002367 -0.015950 -0.024629  1.000000 -0.068382  0.010380   \n",
       "campaign -0.005148 -0.009976  0.160706 -0.068382  1.000000 -0.093137   \n",
       "pdays    -0.008894  0.009437 -0.094352  0.010380 -0.093137  1.000000   \n",
       "previous -0.003511  0.026196 -0.059114  0.018080 -0.067833  0.577562   \n",
       "y_cat     0.045092  0.017905 -0.011244  0.401118 -0.061147  0.104087   \n",
       "\n",
       "          previous     y_cat  \n",
       "age      -0.003511  0.045092  \n",
       "balance   0.026196  0.017905  \n",
       "day      -0.059114 -0.011244  \n",
       "duration  0.018080  0.401118  \n",
       "campaign -0.067833 -0.061147  \n",
       "pdays     0.577562  0.104087  \n",
       "previous  1.000000  0.116714  \n",
       "y_cat     0.116714  1.000000  "
      ]
     },
     "execution_count": 21,
     "metadata": {},
     "output_type": "execute_result"
    }
   ],
   "source": [
    "df[['age', 'balance', 'day', 'duration', 'campaign', 'pdays', 'previous', 'y_cat']].corr()"
   ]
  },
  {
   "cell_type": "code",
   "execution_count": null,
   "id": "ee209d89",
   "metadata": {},
   "outputs": [],
   "source": []
  }
 ],
 "metadata": {
  "kernelspec": {
   "display_name": "Python 3 (ipykernel)",
   "language": "python",
   "name": "python3"
  },
  "language_info": {
   "codemirror_mode": {
    "name": "ipython",
    "version": 3
   },
   "file_extension": ".py",
   "mimetype": "text/x-python",
   "name": "python",
   "nbconvert_exporter": "python",
   "pygments_lexer": "ipython3",
   "version": "3.8.5"
  }
 },
 "nbformat": 4,
 "nbformat_minor": 5
}
