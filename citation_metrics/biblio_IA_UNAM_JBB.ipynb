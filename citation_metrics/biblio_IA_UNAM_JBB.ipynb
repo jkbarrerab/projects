{
 "cells": [
  {
   "cell_type": "markdown",
   "metadata": {},
   "source": [
    "In this notebook we explore the metadata obtained using the code get_publication.py only for Jorge BARRERA BALLESTEROS"
   ]
  },
  {
   "cell_type": "code",
   "execution_count": 1,
   "metadata": {},
   "outputs": [],
   "source": [
    "import json\n",
    "import pandas as pd\n",
    "import numpy as np\n",
    "import matplotlib.pyplot as plt \n",
    "from unidecode import unidecode\n",
    "from urllib.parse import urlencode, quote_plus\n",
    "import keyring\n",
    "import requests"
   ]
  },
  {
   "cell_type": "code",
   "execution_count": 2,
   "metadata": {},
   "outputs": [],
   "source": [
    "invest = pd.read_csv('IA_inves.csv', comment='#')\n",
    "name1 = []\n",
    "name2 = []\n",
    "name3 = []\n",
    "\n",
    "for i in range(len(invest['last_1'])):\n",
    "    tmp = f\"{invest['last_1'][i]}, {invest['name_1'][i]}\"\n",
    "    name1.append(tmp)\n",
    "    tmp = f\"{invest['last_1'][i]}, {invest['name_1'][i].strip()[0]}.\"\n",
    "    name2.append(tmp)\n",
    "\n",
    "    if invest['last_2'][i] != np.nan:\n",
    "        tmp = f\"{invest['last_1'][i]}-{invest['last_2'][i]}, {invest['name_1'][i].strip()[0]}.\"\n",
    "        name3.append(tmp)\n",
    "\n"
   ]
  },
  {
   "cell_type": "code",
   "execution_count": 3,
   "metadata": {},
   "outputs": [],
   "source": [
    "token=\"oWP5e2LVuUCxW9nxbynNEj0YPe2uEtDZCbgiZBej\"\n",
    "\n",
    "# query function\n",
    "def query(query_field, query_value, fields):\n",
    "    encoded_query = urlencode({\"q\": f\"{query_field}:{query_value}\",\"fl\": f\"{fields}\",\"rows\": 4000})\n",
    "    results = requests.get(\"https://api.adsabs.harvard.edu/v1/search/query?{}\".format(encoded_query), headers={'Authorization': 'Bearer ' + token})\n",
    "    r = results.json()    \n",
    "    return(r)"
   ]
  },
  {
   "cell_type": "code",
   "execution_count": 13,
   "metadata": {},
   "outputs": [
    {
     "name": "stdout",
     "output_type": "stream",
     "text": [
      "number of entries: 122\n"
     ]
    }
   ],
   "source": [
    "r = query('author', name3[6], \"bibcode, year, pub, title, keyword, author, aff, citation_count\")\n",
    "data = r['response'][\"docs\"]\n",
    "n_data = len(data)\n",
    "print('number of entries:',n_data)"
   ]
  },
  {
   "cell_type": "code",
   "execution_count": 164,
   "metadata": {},
   "outputs": [
    {
     "name": "stdout",
     "output_type": "stream",
     "text": [
      "<class 'str'>\n"
     ]
    }
   ],
   "source": [
    "print(type(data[0]['title'][0]))"
   ]
  },
  {
   "cell_type": "code",
   "execution_count": 165,
   "metadata": {},
   "outputs": [],
   "source": [
    "for item in data:\n",
    "    item.update( {\"id_research\":6})"
   ]
  },
  {
   "cell_type": "code",
   "execution_count": 166,
   "metadata": {},
   "outputs": [],
   "source": [
    "df = pd.DataFrame.from_dict(data)\n",
    "# not good idea to use an array with strings that have elements with commas on it, like : 'Barrera-Ballesteros, J.', t\n",
    "first_author, second_author, third_author  = [],[],[]\n",
    "first_aff, second_aff, third_aff           = [],[],[]\n",
    "author_pos = []\n",
    "title = []\n",
    "for i in range(n_data):\n",
    "    first_author.append(data[i]['author'][0].replace(',', '')) \n",
    "    # if any(data[i]['author'][1]) == True: \n",
    "        # second_author.append(data[i]['author'][1].replace(',', ''))         \n",
    "    # if any(data[i]['author'][2]) == True: \n",
    "        # third_author.append(data[i]['author'][2].replace(',', ''))\n",
    "    # else:\n",
    "        # third_author.append('')\n",
    "    first_aff.append(data[i]['aff'][0].replace(',', ''))\n",
    "    # second_aff.append(data[i]['aff'][1].replace(',', ''))\n",
    "    # second_aff.append(data[i]['aff'][1]) \n",
    "    # third_aff.append(data[i]['aff'][2])\n",
    "    # TBD ! author_pos.append()\n",
    "    title.append(data[i]['title'][0])\n",
    "\n",
    "\n",
    "df['first_author']=  first_author\n",
    "# df['first_author'], df['second_author'], df['third_author'] =  first_author, second_author, third_author\n",
    "# df['first_aff'], df['second_aff'], df['third_aff'] =  first_aff, second_aff, third_aff\n",
    "df['first_aff']=  first_aff\n",
    "df['title']=  title\n",
    "\n",
    "\n",
    "# columnsTitles = ['id_research', 'bibcode', 'year', 'pub', 'title', 'keyword', 'first_author', 'aff', 'citation_count']\n",
    "columnsTitles = ['id_research', 'bibcode', 'year', 'title', 'author', 'first_author', 'first_aff', 'citation_count']\n",
    "df = df.reindex(columns=columnsTitles)\n",
    "df.index += 1\n",
    "\n",
    "# df.info()\n",
    "df.to_csv('test.csv', index=True, columns = columnsTitles, sep = ';', quotechar = '\"')"
   ]
  },
  {
   "cell_type": "markdown",
   "metadata": {},
   "source": [
    "# metrics "
   ]
  },
  {
   "cell_type": "code",
   "execution_count": 80,
   "metadata": {},
   "outputs": [
    {
     "name": "stdout",
     "output_type": "stream",
     "text": [
      "2022ApJS..259...35A 4\n",
      "2023ApJS..267...44A 2\n",
      "2020ApJS..249....3A 6\n",
      "2017AJ....154...28B 8\n",
      "2018ApJS..235...42A 8\n",
      "2022ApJ...940L...7W 2\n",
      "2023ApJ...955...92V 2\n",
      "2017ApJS..233...25A 9\n",
      "2023ApJ...953...56V 2\n",
      "2019AJ....158..231W 6\n",
      "2022ApJS..262...36S 3\n",
      "2016RMxAA..52..171S 9\n",
      "2024ApJ...960..126V 2\n",
      "2018RMxAA..54..217S 7\n",
      "2019ApJS..240...23A 6\n",
      "2023ApJ...953L..26R 1\n",
      "2024MNRAS.52710201E 1\n",
      "2016RMxAA..52...21S 10\n",
      "2023arXiv231110573S 2\n",
      "2024arXiv240113181W 1\n",
      "2014A&A...563A..49S 11\n",
      "2017ApJ...846..159B 8\n",
      "2022NewA...9701895L 3\n",
      "2023MNRAS.526.5555S 2\n",
      "2016A&A...594A..36S 9\n",
      "2020AJ....159..167L 5\n",
      "2021MNRAS.505L..46E 4\n",
      "2015A&A...576A.135G 10\n",
      "2023ApJS..268....3C 2\n",
      "2023ApJ...952..122G 1\n",
      "2023RMxAA..59..213B 3\n",
      "2022MNRAS.514.2298B 2\n",
      "2014A&A...569A...1W 11\n",
      "2017A&A...597A..48F 9\n",
      "2018MNRAS.474.2039E 8\n",
      "2022RASTI...1....3L 2\n",
      "2023arXiv230413070S 2\n",
      "2022MNRAS.512.3436E 3\n",
      "2021ApJ...923...60V 3\n",
      "2021MNRAS.508.4844N 4\n",
      "2013A&A...549A..87H 12\n",
      "2016MNRAS.463.2513B 8\n",
      "2018ApJ...860...92L 7\n",
      "2022ApJ...939...40L 2\n",
      "2021MNRAS.503.1615S 4\n",
      "2021RMxAA..57....3S 4\n",
      "2021MNRAS.503.3643B 4\n",
      "2022ApJ...929...47A 3\n",
      "2020MNRAS.494.1622E 5\n",
      "2015A&A...582A..21B 10\n",
      "2015A&A...576A.102A 10\n",
      "2017MNRAS.469.2121S 8\n",
      "2019A&A...632A..59F 5\n",
      "2019ApJ...881..119P 5\n",
      "2020ApJ...900..109A 5\n",
      "2022ApJS..261...20M 3\n",
      "2021ApJ...920...62N 4\n",
      "2023IAUS..373....3S 2\n",
      "2018ApJ...868..132P 6\n",
      "2018ApJ...852...74B 7\n",
      "2018MNRAS.480.2544R 6\n",
      "2019MNRAS.484.3042S 6\n",
      "2015A&A...573A..59G 10\n",
      "2014A&A...572A..38G 10\n",
      "2017ApJ...844...80B 8\n",
      "2017ApJ...851L..24H 8\n",
      "2019ApJ...872..144H 6\n",
      "2020A&A...644A..97C 4\n",
      "2021A&A...652L..10S 4\n",
      "2014A&A...568A..70B 11\n",
      "2022A&A...661L...5M 2\n",
      "2021MNRAS.505.5460V 3\n",
      "2021ApJ...909..131B 4\n",
      "2020MNRAS.492.2651B 5\n",
      "2015A&A...579A..45B 10\n",
      "2019MNRAS.482.4032L 6\n",
      "2014A&A...567A.132W 11\n",
      "2015MNRAS.451.1307Z 9\n",
      "2022ascl.soft03017W 3\n",
      "2022yCat..22620036S 3\n",
      "2022RNAAS...6..183B 3\n",
      "2015A&A...573A.105S 10\n",
      "2017MNRAS.467.2612W 8\n",
      "2015MNRAS.451.4397H 10\n",
      "2019ApJ...886L...2L 4\n",
      "2023ApJ...945..169A 2\n",
      "2021ApJ...922L..20C 3\n",
      "2017ApJ...850L..17L 8\n",
      "2017jwst.prop.1335W 8\n",
      "2016A&A...592A.105M 8\n",
      "2017MNRAS.468.4494Z 8\n",
      "2020yCat..51590167L 5\n",
      "2022ascl.soft06023L 3\n",
      "2022ascl.soft06010E 3\n",
      "2016ascl.soft09015S 9\n",
      "2016A&A...593A.114B 8\n",
      "2021essp.confE..29S 3\n",
      "2018yCat..35940036S 7\n",
      "2017yCat..35970048F 8\n",
      "2020sea..confE..35E 5\n",
      "2018yCat..18460159B 7\n",
      "2021essp.confE...1B 3\n",
      "2022yCat..74843042S 3\n",
      "2020BAAA...61C...1B 5\n",
      "2020IAUGA..30..263B 5\n",
      "2020yCat..36320059F 5\n",
      "2016ilgp.confE..63B 9\n",
      "2020yCat..74692121S 5\n",
      "2015yCat..35760135G 10\n",
      "2019AAS...23314417R 6\n",
      "2015PhDT.......391B 10\n",
      "2020sea..confE...2A 5\n",
      "2015yCat..35730059G 10\n",
      "2020sea..confE..89V 5\n",
      "2015yCat..74511307Z 10\n",
      "2016diga.confE..18B 9\n",
      "2015IAUGA..2245583B 10\n",
      "2016ilgp.confE..48G 9\n",
      "2017RMxAC..49..122H 8\n",
      "2016yCat..35820021B 9\n",
      "2016yCat..35930114B 9\n",
      "2024arXiv240115807L 1\n"
     ]
    }
   ],
   "source": [
    "df_metrics = pd.DataFrame(columns = ['bibcode', 'years', 'citations', 'reads'])\n",
    "data_list = []\n",
    "for i in range(n_data):\n",
    "    data_list.append(data[i]['bibcode'])\n",
    "    payload = {\"bibcodes\": [data_list[i]]}\n",
    "    results = requests.post(\"https://api.adsabs.harvard.edu/v1/metrics\", \\\n",
    "                       headers={'Authorization': 'Bearer ' + token, \n",
    "                                \"Content-type\": \"application/json\"}, \\\n",
    "                       data=json.dumps(payload))\n",
    "    metrics = results.json()\n",
    "    years     = list(metrics['histograms']['citations']['refereed to refereed'].keys())\n",
    "    citations = list(metrics['histograms']['citations']['refereed to refereed'].values())\n",
    "    reads     = list(metrics['histograms']['reads']['all reads'].values())\n",
    "    new_row = {'bibcode': data_list[i], 'years': years, 'citations': citations, 'reads': reads}\n",
    "    #df_metrics.loc[len(df_metrics)] = new_row\n",
    "    df_metrics = pd.concat([df_metrics, pd.DataFrame([new_row])], ignore_index=True)\n",
    "    print(data_list[i], len(years))\n",
    "    #df_metrics = df_metrics.append(new_row, ignore_index=True)\n",
    "columnsTitles = ['bibcode', 'years', 'citations', 'reads']\n",
    "df_metrics = df_metrics.reindex(columns=columnsTitles)\n",
    "df_metrics.index += 1\n",
    "\n",
    "# df.info()\n",
    "df_metrics.to_csv('test_metrics.csv', index=True, columns = columnsTitles, sep = ';', quotechar = '\"')   "
   ]
  },
  {
   "cell_type": "code",
   "execution_count": 58,
   "metadata": {},
   "outputs": [],
   "source": []
  },
  {
   "cell_type": "code",
   "execution_count": 69,
   "metadata": {},
   "outputs": [],
   "source": []
  },
  {
   "cell_type": "code",
   "execution_count": 62,
   "metadata": {},
   "outputs": [
    {
     "name": "stdout",
     "output_type": "stream",
     "text": [
      "['2023', '2024']\n"
     ]
    },
    {
     "data": {
      "text/plain": [
       "[15, 6]"
      ]
     },
     "execution_count": 62,
     "metadata": {},
     "output_type": "execute_result"
    }
   ],
   "source": [
    "print(years )\n",
    "citations"
   ]
  },
  {
   "cell_type": "code",
   "execution_count": 67,
   "metadata": {},
   "outputs": [
    {
     "name": "stdout",
     "output_type": "stream",
     "text": [
      "dict_keys(['all reads', 'all reads normalized', 'refereed reads', 'refereed reads normalized'])\n"
     ]
    }
   ],
   "source": [
    "print(metrics['histograms']['reads'].keys())\n",
    "# data.keys()"
   ]
  },
  {
   "cell_type": "code",
   "execution_count": 112,
   "metadata": {},
   "outputs": [
    {
     "name": "stdout",
     "output_type": "stream",
     "text": [
      "<class 'pandas.core.frame.DataFrame'>\n",
      "RangeIndex: 121 entries, 1 to 121\n",
      "Data columns (total 8 columns):\n",
      " #   Column          Non-Null Count  Dtype \n",
      "---  ------          --------------  ----- \n",
      " 0   id_research     121 non-null    int64 \n",
      " 1   bibcode         121 non-null    object\n",
      " 2   year            121 non-null    object\n",
      " 3   title           121 non-null    object\n",
      " 4   first_author    121 non-null    object\n",
      " 5   first_aff       121 non-null    object\n",
      " 6   citation_count  121 non-null    int64 \n",
      " 7   author          121 non-null    object\n",
      "dtypes: int64(2), object(6)\n",
      "memory usage: 7.7+ KB\n"
     ]
    }
   ],
   "source": [
    "df.info()"
   ]
  },
  {
   "cell_type": "code",
   "execution_count": 114,
   "metadata": {},
   "outputs": [
    {
     "data": {
      "text/plain": [
       "\"1                      [Abdurro'uf, Accetta, Katherine]\\n2                 [Almeida, Andrés, Anderson, Scott F.]\\n3             [Ahumada, Romina, Allende Prieto, Carlos]\\n4           [Blanton, Michael R., Bershady, Matthew A.]\\n5                      [Abolfathi, Bela, Aguado, D. S.]\\n                             ...                       \\n117              [Henao-O, -J., Lady, Granados, Andrés]\\n118       [García-Lorenzo, B., Barrera-Ballesteros, J.]\\n119    [Barrera-Ballesteros, J. K., Garcia-Lorenzo, B.]\\n120                     [Bekeraite, S., Walcher, C. J.]\\n121                           [Wong, Tony, Cao, Yixian]\\nName: author, Length: 121, dtype: object\""
      ]
     },
     "execution_count": 114,
     "metadata": {},
     "output_type": "execute_result"
    }
   ],
   "source": [
    "str(df['author']"
   ]
  },
  {
   "cell_type": "code",
   "execution_count": null,
   "metadata": {},
   "outputs": [],
   "source": []
  }
 ],
 "metadata": {
  "kernelspec": {
   "display_name": "Python 3 (ipykernel)",
   "language": "python",
   "name": "python3"
  },
  "language_info": {
   "codemirror_mode": {
    "name": "ipython",
    "version": 3
   },
   "file_extension": ".py",
   "mimetype": "text/x-python",
   "name": "python",
   "nbconvert_exporter": "python",
   "pygments_lexer": "ipython3",
   "version": "3.11.6"
  }
 },
 "nbformat": 4,
 "nbformat_minor": 4
}
